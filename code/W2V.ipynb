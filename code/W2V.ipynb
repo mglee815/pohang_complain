{
 "cells": [
  {
   "cell_type": "code",
   "execution_count": 1,
   "metadata": {},
   "outputs": [],
   "source": [
    "import pandas as pd\n",
    "import datetime\n",
    "from konlpy.tag import Okt"
   ]
  },
  {
   "cell_type": "code",
   "execution_count": 2,
   "metadata": {},
   "outputs": [
    {
     "name": "stderr",
     "output_type": "stream",
     "text": [
      "/tmp/ipykernel_5193/145161895.py:1: DtypeWarning: Columns (6) have mixed types. Specify dtype option on import or set low_memory=False.\n",
      "  data = pd.read_csv(\"../data/pohang_token.csv\")\n"
     ]
    }
   ],
   "source": [
    "data = pd.read_csv(\"../data/pohang_token.csv\")"
   ]
  },
  {
   "cell_type": "code",
   "execution_count": 7,
   "metadata": {},
   "outputs": [],
   "source": [
    "token_lst = data['tokens']"
   ]
  },
  {
   "cell_type": "code",
   "execution_count": 28,
   "metadata": {},
   "outputs": [],
   "source": [
    "import ast\n",
    "\n",
    "token_lst = data['tokens'].apply(lambda x : ast.literal_eval(x))"
   ]
  },
  {
   "cell_type": "code",
   "execution_count": 37,
   "metadata": {},
   "outputs": [],
   "source": [
    "from gensim.models import Word2Vec\n",
    "model = Word2Vec(sentences=token_lst, window=30, min_count=10, workers=8, sg=0)"
   ]
  },
  {
   "cell_type": "code",
   "execution_count": 27,
   "metadata": {},
   "outputs": [],
   "source": [
    "from gensim.models import KeyedVectors\n",
    "model.save(f'..//daum_{datetime.datetime.now().strftime(\"%m_%d_%H\")}_w2v_30_10') # 모델 저장"
   ]
  },
  {
   "cell_type": "code",
   "execution_count": 38,
   "metadata": {},
   "outputs": [
    {
     "data": {
      "text/plain": [
       "[('구미', 0.5341535806655884),\n",
       " ('울진', 0.5147035121917725),\n",
       " ('대구', 0.4891129732131958),\n",
       " ('대한항공', 0.4706384539604187),\n",
       " ('청도', 0.46877026557922363),\n",
       " ('서울', 0.4639595150947571),\n",
       " ('순천', 0.4610622227191925),\n",
       " ('경주', 0.4610317349433899),\n",
       " ('영천', 0.45766884088516235),\n",
       " ('인천', 0.4557476341724396),\n",
       " ('안동', 0.44364944100379944),\n",
       " ('경산', 0.4412010908126831),\n",
       " ('외국인', 0.44033387303352356),\n",
       " ('광양', 0.43733736872673035),\n",
       " ('울산', 0.4326839745044708),\n",
       " ('출국', 0.4320051670074463),\n",
       " ('비자', 0.43037161231040955),\n",
       " ('본사', 0.42927464842796326),\n",
       " ('고령', 0.4289134442806244),\n",
       " ('경기', 0.4282273054122925),\n",
       " ('김포', 0.426418662071228),\n",
       " ('강릉', 0.42351678013801575),\n",
       " ('마라톤', 0.4230053722858429),\n",
       " ('대전', 0.4196406900882721),\n",
       " ('김태훈', 0.4157894253730774),\n",
       " ('시외', 0.4143136143684387),\n",
       " ('군산', 0.41359713673591614),\n",
       " ('여수', 0.41344237327575684),\n",
       " ('청라', 0.41058632731437683),\n",
       " ('대회', 0.40964242815971375)]"
      ]
     },
     "execution_count": 38,
     "metadata": {},
     "output_type": "execute_result"
    }
   ],
   "source": [
    "model.wv.most_similar(\"포항\", topn = 30)"
   ]
  },
  {
   "attachments": {},
   "cell_type": "markdown",
   "metadata": {},
   "source": [
    "# APriori"
   ]
  },
  {
   "cell_type": "code",
   "execution_count": 39,
   "metadata": {},
   "outputs": [],
   "source": [
    "from mlxtend.preprocessing import TransactionEncoder\n",
    "from mlxtend.frequent_patterns import apriori\n",
    "\n",
    "te = TransactionEncoder()\n",
    "te_result = te.fit(token_lst).transform(token_lst)"
   ]
  },
  {
   "cell_type": "code",
   "execution_count": 42,
   "metadata": {},
   "outputs": [
    {
     "name": "stderr",
     "output_type": "stream",
     "text": [
      "/home/mglee/anaconda3/envs/save/lib/python3.8/site-packages/mlxtend/frequent_patterns/association_rules.py:112: RuntimeWarning: invalid value encountered in true_divide\n",
      "  \"confidence\": lambda sAC, sA, _: sAC / sA,\n",
      "/home/mglee/anaconda3/envs/save/lib/python3.8/site-packages/mlxtend/frequent_patterns/association_rules.py:112: RuntimeWarning: invalid value encountered in true_divide\n",
      "  \"confidence\": lambda sAC, sA, _: sAC / sA,\n",
      "/home/mglee/anaconda3/envs/save/lib/python3.8/site-packages/mlxtend/frequent_patterns/association_rules.py:92: RuntimeWarning: invalid value encountered in true_divide\n",
      "  confidence = sAC / sA\n"
     ]
    }
   ],
   "source": [
    "key_df = pd.DataFrame(te_result, columns=te.columns_)\n",
    "\n",
    "itemset = apriori(key_df, min_support=0.3, use_colnames=True)\n",
    "\n",
    "from mlxtend.frequent_patterns import association_rules\n",
    "apriori_result = association_rules(itemset, metric=\"confidence\", min_threshold=0.5)"
   ]
  },
  {
   "cell_type": "code",
   "execution_count": 64,
   "metadata": {},
   "outputs": [],
   "source": [
    "temp = apriori_result[apriori_result['antecedents'] == frozenset({'포항시'})].sort_values('confidence', ascending = False)"
   ]
  },
  {
   "cell_type": "code",
   "execution_count": 69,
   "metadata": {},
   "outputs": [
    {
     "data": {
      "text/plain": [
       "Index(['antecedents', 'consequents', 'antecedent support',\n",
       "       'consequent support', 'support', 'confidence', 'lift', 'leverage',\n",
       "       'conviction'],\n",
       "      dtype='object')"
      ]
     },
     "execution_count": 69,
     "metadata": {},
     "output_type": "execute_result"
    }
   ],
   "source": [
    "temp.columns"
   ]
  },
  {
   "cell_type": "code",
   "execution_count": 72,
   "metadata": {},
   "outputs": [],
   "source": [
    "temp[['antecedents', 'consequents', 'confidence']].head(300).to_csv(\"../pohang_apriori.csv\")"
   ]
  }
 ],
 "metadata": {
  "kernelspec": {
   "display_name": "base",
   "language": "python",
   "name": "python3"
  },
  "language_info": {
   "codemirror_mode": {
    "name": "ipython",
    "version": 3
   },
   "file_extension": ".py",
   "mimetype": "text/x-python",
   "name": "python",
   "nbconvert_exporter": "python",
   "pygments_lexer": "ipython3",
   "version": "3.8.15"
  },
  "orig_nbformat": 4,
  "vscode": {
   "interpreter": {
    "hash": "6632c70ce360d611e847e5318887868e2366d56c00e5f501b5a0b067a934dfe7"
   }
  }
 },
 "nbformat": 4,
 "nbformat_minor": 2
}
