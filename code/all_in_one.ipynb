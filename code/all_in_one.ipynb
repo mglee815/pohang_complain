{
 "cells": [
  {
   "attachments": {},
   "cell_type": "markdown",
   "metadata": {},
   "source": [
    "## DB에서 다운도르 받은 민원을 합치고 전처리하여\n",
    "## 주요 키워드를 확인하는 워크플로우를 통합해놓은 코드 입니다."
   ]
  },
  {
   "attachments": {},
   "cell_type": "markdown",
   "metadata": {},
   "source": [
    "순서\n",
    "\n",
    "1. 여러개의 엑셀파일을 하나의 엑셀로 통합 (저장)\n",
    "\n",
    "2. 중복제거 및 프리텍스트 제거\n",
    "\n",
    "3. 토크나이징 (저장)\n",
    "\n",
    "4. TF값 산출 및 노가다를 통한 클렌징 (저장)"
   ]
  },
  {
   "attachments": {},
   "cell_type": "markdown",
   "metadata": {},
   "source": [
    "### 엑셀파일 통합"
   ]
  },
  {
   "cell_type": "code",
   "execution_count": 2,
   "metadata": {},
   "outputs": [],
   "source": [
    "import pandas as pd\n",
    "import os #파일 경로 획득"
   ]
  },
  {
   "cell_type": "code",
   "execution_count": 9,
   "metadata": {},
   "outputs": [],
   "source": [
    "file_format = \"xlsx\" # .csv .xlsx\n",
    "file_path = \"../data/\" #본인이 다운로드한 파일이 존재하는 위치로 지정\n",
    "file_list = [f\"{file}\" for file in os.listdir(file_path) if file_format in file]"
   ]
  },
  {
   "cell_type": "code",
   "execution_count": 10,
   "metadata": {},
   "outputs": [
    {
     "data": {
      "text/plain": [
       "['PTTN2020.xlsx',\n",
       " 'SAEOL2021.xlsx',\n",
       " 'DFPT2022.xlsx',\n",
       " 'DFPT2021.xlsx',\n",
       " 'SAEOL2019.xlsx',\n",
       " 'PTTN2019.xlsx',\n",
       " 'SAEOL2022.xlsx',\n",
       " 'PTTN2022.xlsx',\n",
       " 'DFPT2020.xlsx',\n",
       " 'SAEOL2020.xlsx',\n",
       " 'PTTN2021.xlsx',\n",
       " 'DFPT2019.xlsx']"
      ]
     },
     "execution_count": 10,
     "metadata": {},
     "output_type": "execute_result"
    }
   ],
   "source": [
    "file_list"
   ]
  },
  {
   "cell_type": "code",
   "execution_count": 11,
   "metadata": {},
   "outputs": [
    {
     "name": "stdout",
     "output_type": "stream",
     "text": [
      "PTTN 2020\n",
      "SAEO 2021\n",
      "DFPT 2022\n",
      "DFPT 2021\n",
      "SAEO 2019\n",
      "PTTN 2019\n",
      "SAEO 2022\n",
      "PTTN 2022\n",
      "DFPT 2020\n",
      "SAEO 2020\n",
      "PTTN 2021\n",
      "DFPT 2019\n"
     ]
    }
   ],
   "source": [
    "merged_data = pd.DataFrame()\n",
    "col_names = pd.read_excel(\"../data/PTTN2020.xlsx\").columns\n",
    "for file in file_list:\n",
    "    year = file[-9:-5]\n",
    "    category = file[:4]\n",
    "    print(category, year)\n",
    "    df = pd.read_excel(f\"../data/{file}\")\n",
    "    df.columns = col_names\n",
    "    df['category'] = category\n",
    "    df['year'] = year\n",
    "    merged_data =  pd.concat([merged_data, df])\n",
    "    merged_data = merged_data.reset_index(drop=True)"
   ]
  },
  {
   "cell_type": "code",
   "execution_count": 14,
   "metadata": {},
   "outputs": [
    {
     "data": {
      "text/plain": [
       "(144814, 30)"
      ]
     },
     "execution_count": 14,
     "metadata": {},
     "output_type": "execute_result"
    }
   ],
   "source": [
    "merged_data.shape"
   ]
  },
  {
   "attachments": {},
   "cell_type": "markdown",
   "metadata": {},
   "source": [
    "save point"
   ]
  },
  {
   "cell_type": "code",
   "execution_count": 17,
   "metadata": {},
   "outputs": [],
   "source": [
    "# merged_data라는 이름으로 모든 엑셀파일을 통합한 dataframe 생성됨\n",
    "\n",
    "#merged_data.to_excel(\"../data/pohang.xlsx\") #본인의 도시 명으로 우선 저장\n",
    "data = pd.read_excel(\"../data/pohang.xlsx\") # 저장한 것 다시 불러와서 작업"
   ]
  },
  {
   "cell_type": "code",
   "execution_count": 18,
   "metadata": {},
   "outputs": [
    {
     "data": {
      "text/plain": [
       "(144814, 31)"
      ]
     },
     "execution_count": 18,
     "metadata": {},
     "output_type": "execute_result"
    }
   ],
   "source": [
    "data.shape"
   ]
  },
  {
   "cell_type": "code",
   "execution_count": 21,
   "metadata": {},
   "outputs": [],
   "source": [
    "try:\n",
    "    data = data.drop('Unnamed: 0', axis = 1)\n",
    "except:\n",
    "    pass"
   ]
  },
  {
   "cell_type": "code",
   "execution_count": 23,
   "metadata": {},
   "outputs": [
    {
     "data": {
      "text/html": [
       "<div>\n",
       "<style scoped>\n",
       "    .dataframe tbody tr th:only-of-type {\n",
       "        vertical-align: middle;\n",
       "    }\n",
       "\n",
       "    .dataframe tbody tr th {\n",
       "        vertical-align: top;\n",
       "    }\n",
       "\n",
       "    .dataframe thead th {\n",
       "        text-align: right;\n",
       "    }\n",
       "</style>\n",
       "<table border=\"1\" class=\"dataframe\">\n",
       "  <thead>\n",
       "    <tr style=\"text-align: right;\">\n",
       "      <th></th>\n",
       "      <th>민원신청번호</th>\n",
       "      <th>민원접수번호</th>\n",
       "      <th>제목</th>\n",
       "      <th>본문</th>\n",
       "      <th>처리내용</th>\n",
       "      <th>처리이력</th>\n",
       "      <th>신청일</th>\n",
       "      <th>민원분야</th>\n",
       "      <th>민원발생지</th>\n",
       "      <th>민원신청경로</th>\n",
       "      <th>...</th>\n",
       "      <th>나이</th>\n",
       "      <th>중복민원</th>\n",
       "      <th>관련법령</th>\n",
       "      <th>자민원여부</th>\n",
       "      <th>모민원번호</th>\n",
       "      <th>3회이상종결처리관계</th>\n",
       "      <th>일괄답변모민원번호1</th>\n",
       "      <th>일괄답변모민원번호2</th>\n",
       "      <th>category</th>\n",
       "      <th>year</th>\n",
       "    </tr>\n",
       "  </thead>\n",
       "  <tbody>\n",
       "    <tr>\n",
       "      <th>0</th>\n",
       "      <td>1AA-2001-144354</td>\n",
       "      <td>2AA-2001-165555</td>\n",
       "      <td>[생활불편신고]장애인 전용구역 불법주차</td>\n",
       "      <td>&amp;lt;장애인 전용구역 불법주차&amp;gt; 사진 하단에보시면 구형 사각 주차증입니다 확...</td>\n",
       "      <td>신고주신 차량은 주차가능 표지 미발부자로 2020.1.20 과태료 부과 되어 나갔습...</td>\n",
       "      <td>1. 저희 시 전자민원에 참여해 주셔서 감사합니다.\\n\\n2. 귀하의 불법주차신고(...</td>\n",
       "      <td>2020-01-08 13:18:31</td>\n",
       "      <td>경찰</td>\n",
       "      <td>경상북도</td>\n",
       "      <td>생활불편신고</td>\n",
       "      <td>...</td>\n",
       "      <td>NaN</td>\n",
       "      <td>N</td>\n",
       "      <td>장애인ㆍ노인ㆍ임산부 등의 편의증진 보장에 관한 법률 제17조(장애인전용주차구역 등...</td>\n",
       "      <td>NaN</td>\n",
       "      <td>NaN</td>\n",
       "      <td>NaN</td>\n",
       "      <td>NaN</td>\n",
       "      <td>NaN</td>\n",
       "      <td>PTTN</td>\n",
       "      <td>2020</td>\n",
       "    </tr>\n",
       "    <tr>\n",
       "      <th>1</th>\n",
       "      <td>1AA-2001-371979</td>\n",
       "      <td>2AA-2001-429880</td>\n",
       "      <td>[생활불편신고]장애인 전용구역 불법주차</td>\n",
       "      <td>&amp;lt;장애인 전용구역 불법주차&amp;gt; 너무 상습적이어서 보다보다 신고합니다\\n경상...</td>\n",
       "      <td>안녕하세요 노인장애인 복지과 김혜경 입니다.\\n\\n신고주신 차량은 \\n[주차가능] ...</td>\n",
       "      <td>1. 저희 시 전자민원에 참여해 주셔서 감사합니다.\\n\\n2. 민원업무 답변기한이 ...</td>\n",
       "      <td>2020-01-19 11:46:24</td>\n",
       "      <td>경찰</td>\n",
       "      <td>경상북도</td>\n",
       "      <td>생활불편신고</td>\n",
       "      <td>...</td>\n",
       "      <td>NaN</td>\n",
       "      <td>N</td>\n",
       "      <td>장애인ㆍ노인ㆍ임산부 등의 편의증진 보장에 관한 법률 제17조(장애인전용주차구역 등...</td>\n",
       "      <td>NaN</td>\n",
       "      <td>NaN</td>\n",
       "      <td>NaN</td>\n",
       "      <td>NaN</td>\n",
       "      <td>NaN</td>\n",
       "      <td>PTTN</td>\n",
       "      <td>2020</td>\n",
       "    </tr>\n",
       "  </tbody>\n",
       "</table>\n",
       "<p>2 rows × 30 columns</p>\n",
       "</div>"
      ],
      "text/plain": [
       "            민원신청번호           민원접수번호                     제목  \\\n",
       "0  1AA-2001-144354  2AA-2001-165555  [생활불편신고]장애인 전용구역 불법주차   \n",
       "1  1AA-2001-371979  2AA-2001-429880  [생활불편신고]장애인 전용구역 불법주차   \n",
       "\n",
       "                                                  본문  \\\n",
       "0  &lt;장애인 전용구역 불법주차&gt; 사진 하단에보시면 구형 사각 주차증입니다 확...   \n",
       "1  &lt;장애인 전용구역 불법주차&gt; 너무 상습적이어서 보다보다 신고합니다\\n경상...   \n",
       "\n",
       "                                                처리내용  \\\n",
       "0  신고주신 차량은 주차가능 표지 미발부자로 2020.1.20 과태료 부과 되어 나갔습...   \n",
       "1  안녕하세요 노인장애인 복지과 김혜경 입니다.\\n\\n신고주신 차량은 \\n[주차가능] ...   \n",
       "\n",
       "                                                처리이력                 신청일 민원분야  \\\n",
       "0  1. 저희 시 전자민원에 참여해 주셔서 감사합니다.\\n\\n2. 귀하의 불법주차신고(... 2020-01-08 13:18:31   경찰   \n",
       "1  1. 저희 시 전자민원에 참여해 주셔서 감사합니다.\\n\\n2. 민원업무 답변기한이 ... 2020-01-19 11:46:24   경찰   \n",
       "\n",
       "  민원발생지  민원신청경로  ...  나이 중복민원  \\\n",
       "0  경상북도  생활불편신고  ... NaN    N   \n",
       "1  경상북도  생활불편신고  ... NaN    N   \n",
       "\n",
       "                                                관련법령 자민원여부 모민원번호 3회이상종결처리관계  \\\n",
       "0   장애인ㆍ노인ㆍ임산부 등의 편의증진 보장에 관한 법률 제17조(장애인전용주차구역 등...   NaN   NaN        NaN   \n",
       "1   장애인ㆍ노인ㆍ임산부 등의 편의증진 보장에 관한 법률 제17조(장애인전용주차구역 등...   NaN   NaN        NaN   \n",
       "\n",
       "  일괄답변모민원번호1 일괄답변모민원번호2 category  year  \n",
       "0        NaN        NaN     PTTN  2020  \n",
       "1        NaN        NaN     PTTN  2020  \n",
       "\n",
       "[2 rows x 30 columns]"
      ]
     },
     "execution_count": 23,
     "metadata": {},
     "output_type": "execute_result"
    }
   ],
   "source": [
    "data.head(2)"
   ]
  },
  {
   "attachments": {},
   "cell_type": "markdown",
   "metadata": {},
   "source": [
    "### 중복제거 및 프리텍스트 제거"
   ]
  },
  {
   "cell_type": "code",
   "execution_count": 26,
   "metadata": {},
   "outputs": [
    {
     "data": {
      "text/plain": [
       "(133295, 30)"
      ]
     },
     "execution_count": 26,
     "metadata": {},
     "output_type": "execute_result"
    }
   ],
   "source": [
    "data = data.drop_duplicates(['본문']).reset_index(drop = True)\n",
    "data.shape"
   ]
  },
  {
   "attachments": {},
   "cell_type": "markdown",
   "metadata": {},
   "source": [
    "불법 주정차 관련 민원 제거"
   ]
  },
  {
   "cell_type": "code",
   "execution_count": 28,
   "metadata": {},
   "outputs": [
    {
     "name": "stdout",
     "output_type": "stream",
     "text": [
      "불법주정차 관련 민원 (제거됨) : 22515\n",
      "일반 민원 : 110780\n"
     ]
    }
   ],
   "source": [
    "import re\n",
    "\n",
    "pattern = re.compile('불법주차&gt;')\n",
    "\n",
    "drop_idx = data['본문'].apply(lambda x : pattern.search(str(x)) != None) # 불법주차 패턴 있는 것\n",
    "normal_idx = data['본문'].apply(lambda x : pattern.search(str(x)) == None) # 불법주차 패턴으로 시작하지 않음\n",
    "\n",
    "print(f\"불법주정차 관련 민원 (제거됨) : {data[drop_idx].shape[0]}\")\n",
    "print(f\"일반 민원 : {data[normal_idx].shape[0]}\")"
   ]
  },
  {
   "cell_type": "code",
   "execution_count": 32,
   "metadata": {},
   "outputs": [],
   "source": [
    "data = data[normal_idx]"
   ]
  },
  {
   "attachments": {},
   "cell_type": "markdown",
   "metadata": {},
   "source": [
    "프리텍스트 제거"
   ]
  },
  {
   "cell_type": "code",
   "execution_count": 33,
   "metadata": {},
   "outputs": [],
   "source": [
    "def drop_pretext(x):\n",
    "    x = x.replace(\"[민원 유입 경로]: 모바일\\n[사고발생지역]\", \"\")\n",
    "    x = x.replace(\"G:휴대폰(안전신문고 앱 제외) 또는 PC에 저장된 사진\\n* C:안전신문고 앱으로 현장에서 촬영 후 바로 신고한 사진\\n* S:안전신문고 앱으로 촬영 및 저장 후 당일 신고한 사진\\n * 안전신문고 앱으로 촬영한 사진은 촬영 일시가 자동으로 표기되고, 위·변조 방지기능을 탑재\\n\\n\\n[처리요청기관]:\", \"\")\n",
    "    x = x.replace(\"안전신문고 신고파일(사진) 촬영시간 및 경로 안내\", \"\")\n",
    "    return x"
   ]
  },
  {
   "cell_type": "code",
   "execution_count": 34,
   "metadata": {},
   "outputs": [
    {
     "name": "stderr",
     "output_type": "stream",
     "text": [
      "/tmp/ipykernel_16431/3657969733.py:1: SettingWithCopyWarning: \n",
      "A value is trying to be set on a copy of a slice from a DataFrame.\n",
      "Try using .loc[row_indexer,col_indexer] = value instead\n",
      "\n",
      "See the caveats in the documentation: https://pandas.pydata.org/pandas-docs/stable/user_guide/indexing.html#returning-a-view-versus-a-copy\n",
      "  data['본문'] = data['본문'].apply(lambda x :drop_pretext(str(x)))\n"
     ]
    }
   ],
   "source": [
    "data['본문'] = data['본문'].apply(lambda x :drop_pretext(str(x)))"
   ]
  },
  {
   "attachments": {},
   "cell_type": "markdown",
   "metadata": {},
   "source": [
    "### 토크나이징"
   ]
  },
  {
   "cell_type": "code",
   "execution_count": 38,
   "metadata": {},
   "outputs": [],
   "source": [
    "from konlpy.tag import Okt\n",
    "\n",
    "okt = Okt()"
   ]
  },
  {
   "cell_type": "code",
   "execution_count": 39,
   "metadata": {},
   "outputs": [],
   "source": [
    "def tokenizer(x):\n",
    "    x = str(x)\n",
    "    if len(x) < 1000: #너무 긴 민원은 Too Long이라는 키워드로 치환\n",
    "        return okt.nouns(x)\n",
    "    else:\n",
    "        return [\"Too Long\"]"
   ]
  },
  {
   "cell_type": "code",
   "execution_count": 40,
   "metadata": {},
   "outputs": [],
   "source": [
    "tokens = data['본문'].apply(lambda x : tokenizer(x))"
   ]
  },
  {
   "cell_type": "code",
   "execution_count": 42,
   "metadata": {},
   "outputs": [
    {
     "name": "stderr",
     "output_type": "stream",
     "text": [
      "/tmp/ipykernel_16431/2173657068.py:1: SettingWithCopyWarning: \n",
      "A value is trying to be set on a copy of a slice from a DataFrame.\n",
      "Try using .loc[row_indexer,col_indexer] = value instead\n",
      "\n",
      "See the caveats in the documentation: https://pandas.pydata.org/pandas-docs/stable/user_guide/indexing.html#returning-a-view-versus-a-copy\n",
      "  data['tokens'] = tokens\n"
     ]
    }
   ],
   "source": [
    "data['tokens'] = tokens"
   ]
  },
  {
   "cell_type": "code",
   "execution_count": 44,
   "metadata": {},
   "outputs": [
    {
     "data": {
      "text/html": [
       "<div>\n",
       "<style scoped>\n",
       "    .dataframe tbody tr th:only-of-type {\n",
       "        vertical-align: middle;\n",
       "    }\n",
       "\n",
       "    .dataframe tbody tr th {\n",
       "        vertical-align: top;\n",
       "    }\n",
       "\n",
       "    .dataframe thead th {\n",
       "        text-align: right;\n",
       "    }\n",
       "</style>\n",
       "<table border=\"1\" class=\"dataframe\">\n",
       "  <thead>\n",
       "    <tr style=\"text-align: right;\">\n",
       "      <th></th>\n",
       "      <th>민원신청번호</th>\n",
       "      <th>민원접수번호</th>\n",
       "      <th>제목</th>\n",
       "      <th>본문</th>\n",
       "      <th>처리내용</th>\n",
       "      <th>처리이력</th>\n",
       "      <th>신청일</th>\n",
       "      <th>민원분야</th>\n",
       "      <th>민원발생지</th>\n",
       "      <th>민원신청경로</th>\n",
       "      <th>...</th>\n",
       "      <th>중복민원</th>\n",
       "      <th>관련법령</th>\n",
       "      <th>자민원여부</th>\n",
       "      <th>모민원번호</th>\n",
       "      <th>3회이상종결처리관계</th>\n",
       "      <th>일괄답변모민원번호1</th>\n",
       "      <th>일괄답변모민원번호2</th>\n",
       "      <th>category</th>\n",
       "      <th>year</th>\n",
       "      <th>tokens</th>\n",
       "    </tr>\n",
       "  </thead>\n",
       "  <tbody>\n",
       "    <tr>\n",
       "      <th>20</th>\n",
       "      <td>1AA-2004-0268050</td>\n",
       "      <td>2AA-2004-0241554</td>\n",
       "      <td>국세청 감사실 진정서( 국세청에 질의한 것이 왜 울룽군 포항세무서에서답변 하였는지 ...</td>\n",
       "      <td>1. 저가 국세청에 질의 하였고 처리기관은 국세청인데 저의 개인정보를 민원 처리에 ...</td>\n",
       "      <td>1. 안녕하십니까? 항상 국세행정에 대한 관심에 감사드립니다.\\n\\n2. 귀하께서 ...</td>\n",
       "      <td>1. 안녕하십니까? 항상 국세행정에 대한 관심에 감사드립니다.\\n\\n2. 귀하께서 ...</td>\n",
       "      <td>2020-04-11 09:19:06</td>\n",
       "      <td>세무</td>\n",
       "      <td>대구광역시</td>\n",
       "      <td>국민신문고 Web</td>\n",
       "      <td>...</td>\n",
       "      <td>N</td>\n",
       "      <td>민원 처리에 관한 법률 제16조(민원문서의 이송)</td>\n",
       "      <td>NaN</td>\n",
       "      <td>NaN</td>\n",
       "      <td>NaN</td>\n",
       "      <td>NaN</td>\n",
       "      <td>NaN</td>\n",
       "      <td>PTTN</td>\n",
       "      <td>2020</td>\n",
       "      <td>[Too Long]</td>\n",
       "    </tr>\n",
       "    <tr>\n",
       "      <th>22</th>\n",
       "      <td>1AA-2004-0404237</td>\n",
       "      <td>2AA-2004-0353457</td>\n",
       "      <td>불법 외국인 근로자 강력한 단속 조치 요청</td>\n",
       "      <td>사업장 주소 - 포항시 남구 대송면 철강산단로 83(주)삼표피앤씨 협력업체 &amp;quo...</td>\n",
       "      <td>안녕하십니까.\\n귀하께서 국민신문고를 통해 제기하신 민원(1AA-2004-04042...</td>\n",
       "      <td>1. 안녕하십니까. 출입국관리 업무에 관심을 가져주신 것에 대해 감사드리며, 귀하께...</td>\n",
       "      <td>2020-04-16 22:55:49</td>\n",
       "      <td>노동</td>\n",
       "      <td>경상북도</td>\n",
       "      <td>국민신문고 Web</td>\n",
       "      <td>...</td>\n",
       "      <td>N</td>\n",
       "      <td>민원 처리에 관한 법률 제5조(민원인의 권리와 의무)</td>\n",
       "      <td>NaN</td>\n",
       "      <td>NaN</td>\n",
       "      <td>NaN</td>\n",
       "      <td>NaN</td>\n",
       "      <td>NaN</td>\n",
       "      <td>PTTN</td>\n",
       "      <td>2020</td>\n",
       "      <td>[사업, 주소, 포항시, 남구, 대송면, 철강산단로, 주, 표피, 앤, 협력, 업체...</td>\n",
       "    </tr>\n",
       "  </tbody>\n",
       "</table>\n",
       "<p>2 rows × 31 columns</p>\n",
       "</div>"
      ],
      "text/plain": [
       "              민원신청번호            민원접수번호  \\\n",
       "20  1AA-2004-0268050  2AA-2004-0241554   \n",
       "22  1AA-2004-0404237  2AA-2004-0353457   \n",
       "\n",
       "                                                   제목  \\\n",
       "20  국세청 감사실 진정서( 국세청에 질의한 것이 왜 울룽군 포항세무서에서답변 하였는지 ...   \n",
       "22                            불법 외국인 근로자 강력한 단속 조치 요청   \n",
       "\n",
       "                                                   본문  \\\n",
       "20  1. 저가 국세청에 질의 하였고 처리기관은 국세청인데 저의 개인정보를 민원 처리에 ...   \n",
       "22  사업장 주소 - 포항시 남구 대송면 철강산단로 83(주)삼표피앤씨 협력업체 &quo...   \n",
       "\n",
       "                                                 처리내용  \\\n",
       "20  1. 안녕하십니까? 항상 국세행정에 대한 관심에 감사드립니다.\\n\\n2. 귀하께서 ...   \n",
       "22  안녕하십니까.\\n귀하께서 국민신문고를 통해 제기하신 민원(1AA-2004-04042...   \n",
       "\n",
       "                                                 처리이력                 신청일  \\\n",
       "20  1. 안녕하십니까? 항상 국세행정에 대한 관심에 감사드립니다.\\n\\n2. 귀하께서 ... 2020-04-11 09:19:06   \n",
       "22  1. 안녕하십니까. 출입국관리 업무에 관심을 가져주신 것에 대해 감사드리며, 귀하께... 2020-04-16 22:55:49   \n",
       "\n",
       "   민원분야  민원발생지     민원신청경로  ... 중복민원                            관련법령 자민원여부  \\\n",
       "20   세무  대구광역시  국민신문고 Web  ...    N     민원 처리에 관한 법률 제16조(민원문서의 이송)   NaN   \n",
       "22   노동   경상북도  국민신문고 Web  ...    N   민원 처리에 관한 법률 제5조(민원인의 권리와 의무)   NaN   \n",
       "\n",
       "   모민원번호 3회이상종결처리관계 일괄답변모민원번호1 일괄답변모민원번호2 category  year  \\\n",
       "20   NaN        NaN        NaN        NaN     PTTN  2020   \n",
       "22   NaN        NaN        NaN        NaN     PTTN  2020   \n",
       "\n",
       "                                               tokens  \n",
       "20                                         [Too Long]  \n",
       "22  [사업, 주소, 포항시, 남구, 대송면, 철강산단로, 주, 표피, 앤, 협력, 업체...  \n",
       "\n",
       "[2 rows x 31 columns]"
      ]
     },
     "execution_count": 44,
     "metadata": {},
     "output_type": "execute_result"
    }
   ],
   "source": [
    "data.head(2)"
   ]
  },
  {
   "attachments": {},
   "cell_type": "markdown",
   "metadata": {},
   "source": [
    "save point"
   ]
  },
  {
   "cell_type": "code",
   "execution_count": 46,
   "metadata": {},
   "outputs": [],
   "source": [
    "#data.to_excel(\"../data/pohang_token.xlsx\") # 토크나이징 한 것까지 한번 저장\n",
    "data = pd.read_excel(\"../data/pohang_token.xlsx\") # 토크나이징 한 것까지 한번 저장"
   ]
  },
  {
   "cell_type": "code",
   "execution_count": 48,
   "metadata": {},
   "outputs": [
    {
     "data": {
      "text/plain": [
       "(110780, 32)"
      ]
     },
     "execution_count": 48,
     "metadata": {},
     "output_type": "execute_result"
    }
   ],
   "source": [
    "data.shape"
   ]
  },
  {
   "attachments": {},
   "cell_type": "markdown",
   "metadata": {},
   "source": [
    "## 상위 TF 키워드 보며 데이터 정리하기"
   ]
  },
  {
   "attachments": {},
   "cell_type": "markdown",
   "metadata": {},
   "source": [
    "아래의 셀을 반복적으로 돌려보면서 본인 상황에 맞게 stopwords 추가하기"
   ]
  },
  {
   "cell_type": "code",
   "execution_count": 57,
   "metadata": {},
   "outputs": [],
   "source": [
    "#분석에서 제거할 키워드를 추가하면 check_freq_tokens()함수에서 데이터 프레임 결과를 보여줄때 제거됨\n",
    "\n",
    "stopwords = [\n",
    "    'Too Long', '위반', '차량', '민원', '내용', '관련', '신고', '처리', '해당', '첨부파일', '확인', '문의',\n",
    "    '다운로드', '요청', '제보', '발생', '경우', '도로', '업무', '주차', '불법', '답변', '사진', '촬영', '안전',\n",
    "    '신문고', '과태료', '첨부', '저장', '안내', '부과', '갤러리', '불편', '정보', '정차', '동영상', '개인정보',\n",
    "    '접수'\n",
    "]"
   ]
  },
  {
   "cell_type": "code",
   "execution_count": 52,
   "metadata": {},
   "outputs": [],
   "source": [
    "#tf값 계산해주는 함수\n",
    "from collections import Counter  \n",
    "\n",
    "def check_freq_tokens(x):\n",
    "    tf = Counter()\n",
    "    \n",
    "    for token in x.tokens:\n",
    "        tf.update(eval(token))\n",
    "    tf_df = pd.DataFrame([tf.keys(), tf.values()]).T\n",
    "    tf_df = tf_df[tf_df[0].apply(lambda x : len(x) > 1)] # 키워드의 길이가 2이상인 것만 표시\n",
    "    tf_df = tf_df[tf_df[0].apply(lambda x : x not in stopwords)] # 키워드의 길이가 2이상인 것만 표시\n",
    "    return tf_df.sort_values(1, ascending=False)"
   ]
  },
  {
   "cell_type": "code",
   "execution_count": 58,
   "metadata": {},
   "outputs": [
    {
     "data": {
      "text/html": [
       "<div>\n",
       "<style scoped>\n",
       "    .dataframe tbody tr th:only-of-type {\n",
       "        vertical-align: middle;\n",
       "    }\n",
       "\n",
       "    .dataframe tbody tr th {\n",
       "        vertical-align: top;\n",
       "    }\n",
       "\n",
       "    .dataframe thead th {\n",
       "        text-align: right;\n",
       "    }\n",
       "</style>\n",
       "<table border=\"1\" class=\"dataframe\">\n",
       "  <thead>\n",
       "    <tr style=\"text-align: right;\">\n",
       "      <th></th>\n",
       "      <th>0</th>\n",
       "      <th>1</th>\n",
       "    </tr>\n",
       "  </thead>\n",
       "  <tbody>\n",
       "    <tr>\n",
       "      <th>3</th>\n",
       "      <td>포항시</td>\n",
       "      <td>82167</td>\n",
       "    </tr>\n",
       "    <tr>\n",
       "      <th>217</th>\n",
       "      <td>기관</td>\n",
       "      <td>44847</td>\n",
       "    </tr>\n",
       "    <tr>\n",
       "      <th>484</th>\n",
       "      <td>경상북도</td>\n",
       "      <td>41197</td>\n",
       "    </tr>\n",
       "    <tr>\n",
       "      <th>505</th>\n",
       "      <td>바로</td>\n",
       "      <td>31151</td>\n",
       "    </tr>\n",
       "    <tr>\n",
       "      <th>942</th>\n",
       "      <td>발송</td>\n",
       "      <td>31056</td>\n",
       "    </tr>\n",
       "    <tr>\n",
       "      <th>...</th>\n",
       "      <td>...</td>\n",
       "      <td>...</td>\n",
       "    </tr>\n",
       "    <tr>\n",
       "      <th>888</th>\n",
       "      <td>구동</td>\n",
       "      <td>8312</td>\n",
       "    </tr>\n",
       "    <tr>\n",
       "      <th>1697</th>\n",
       "      <td>직접</td>\n",
       "      <td>8108</td>\n",
       "    </tr>\n",
       "    <tr>\n",
       "      <th>964</th>\n",
       "      <td>요망</td>\n",
       "      <td>7898</td>\n",
       "    </tr>\n",
       "    <tr>\n",
       "      <th>1484</th>\n",
       "      <td>이송</td>\n",
       "      <td>7308</td>\n",
       "    </tr>\n",
       "    <tr>\n",
       "      <th>82</th>\n",
       "      <td>경북</td>\n",
       "      <td>7217</td>\n",
       "    </tr>\n",
       "  </tbody>\n",
       "</table>\n",
       "<p>100 rows × 2 columns</p>\n",
       "</div>"
      ],
      "text/plain": [
       "         0      1\n",
       "3      포항시  82167\n",
       "217     기관  44847\n",
       "484   경상북도  41197\n",
       "505     바로  31151\n",
       "942     발송  31056\n",
       "...    ...    ...\n",
       "888     구동   8312\n",
       "1697    직접   8108\n",
       "964     요망   7898\n",
       "1484    이송   7308\n",
       "82      경북   7217\n",
       "\n",
       "[100 rows x 2 columns]"
      ]
     },
     "execution_count": 58,
     "metadata": {},
     "output_type": "execute_result"
    }
   ],
   "source": [
    "check_freq_tokens(data).head(100)"
   ]
  },
  {
   "attachments": {},
   "cell_type": "markdown",
   "metadata": {},
   "source": [
    "tf값이 높은 단어들 중 그 단어를 포함한 민원이 어떤 것인지 확인하기 위하여 아래의 셀을 수행 \\\n",
    "예를 들어 tf값 2위인 '기관'은 stopword로 추가할만한 키워드인지 확인하기 위하여 '기관'을 포함한 민원을 확인"
   ]
  },
  {
   "cell_type": "code",
   "execution_count": 55,
   "metadata": {},
   "outputs": [],
   "source": [
    "def keyword_check(keyword):\n",
    "    lst_idx = []\n",
    "    for idx, row in data.iterrows():\n",
    "        if keyword in row.tokens:\n",
    "            lst_idx.append(idx)\n",
    "    return data.iloc[lst_idx, :]"
   ]
  },
  {
   "cell_type": "code",
   "execution_count": 59,
   "metadata": {},
   "outputs": [
    {
     "data": {
      "text/html": [
       "<div>\n",
       "<style scoped>\n",
       "    .dataframe tbody tr th:only-of-type {\n",
       "        vertical-align: middle;\n",
       "    }\n",
       "\n",
       "    .dataframe tbody tr th {\n",
       "        vertical-align: top;\n",
       "    }\n",
       "\n",
       "    .dataframe thead th {\n",
       "        text-align: right;\n",
       "    }\n",
       "</style>\n",
       "<table border=\"1\" class=\"dataframe\">\n",
       "  <thead>\n",
       "    <tr style=\"text-align: right;\">\n",
       "      <th></th>\n",
       "      <th>Unnamed: 0</th>\n",
       "      <th>민원신청번호</th>\n",
       "      <th>민원접수번호</th>\n",
       "      <th>제목</th>\n",
       "      <th>본문</th>\n",
       "      <th>처리내용</th>\n",
       "      <th>처리이력</th>\n",
       "      <th>신청일</th>\n",
       "      <th>민원분야</th>\n",
       "      <th>민원발생지</th>\n",
       "      <th>...</th>\n",
       "      <th>중복민원</th>\n",
       "      <th>관련법령</th>\n",
       "      <th>자민원여부</th>\n",
       "      <th>모민원번호</th>\n",
       "      <th>3회이상종결처리관계</th>\n",
       "      <th>일괄답변모민원번호1</th>\n",
       "      <th>일괄답변모민원번호2</th>\n",
       "      <th>category</th>\n",
       "      <th>year</th>\n",
       "      <th>tokens</th>\n",
       "    </tr>\n",
       "  </thead>\n",
       "  <tbody>\n",
       "    <tr>\n",
       "      <th>3</th>\n",
       "      <td>25</td>\n",
       "      <td>1AA-2004-0257015</td>\n",
       "      <td>2AA-2004-0263815</td>\n",
       "      <td>학교 구강 검진의 통계는 학교의 행정 사무가 아닌지요?</td>\n",
       "      <td>안녕하세요 \\n포항 남구 오천읍에서 작은 치과를 운영하고 있는 채민기입니다. \\n저...</td>\n",
       "      <td>1. 안녕하십니까? 귀하께서 국민신문고(2AA-2004-0263815)를 통해 요청...</td>\n",
       "      <td>1. 안녕하십니까? 귀하께서 국민신문고(2AA-2004-0263815)를 통해 요청...</td>\n",
       "      <td>2020-04-10 17:59:46</td>\n",
       "      <td>교육</td>\n",
       "      <td>경상북도</td>\n",
       "      <td>...</td>\n",
       "      <td>N</td>\n",
       "      <td>민원 처리에 관한 법률 제27조(처리결과의 통지)</td>\n",
       "      <td>NaN</td>\n",
       "      <td>NaN</td>\n",
       "      <td>NaN</td>\n",
       "      <td>NaN</td>\n",
       "      <td>NaN</td>\n",
       "      <td>PTTN</td>\n",
       "      <td>2020</td>\n",
       "      <td>['포항', '남구', '오천읍', '치과', '운영', '채민', '기입', '니...</td>\n",
       "    </tr>\n",
       "    <tr>\n",
       "      <th>13</th>\n",
       "      <td>48</td>\n",
       "      <td>1AA-2006-0782074</td>\n",
       "      <td>2AA-2006-0779602</td>\n",
       "      <td>포항시 북구 삼호로 43   청라빌딩 의 입구 뒤 , 임대광고현수막 앞 인도 , 경...</td>\n",
       "      <td>\\n\\n\\n\\n\\n\\n중앙정부기관 승인 없이\\n신청자의 개인정보를\\n\\n무단 열람하...</td>\n",
       "      <td>안녕하십니까? \\n국민신문고를 통해 포항북부경찰서를 찾아주신 데 감사드리며, \\n질...</td>\n",
       "      <td>안녕하십니까?\\n 귀하께서 국민신문고를 통해 신청하신 민원에 대한 검토 결과\\n다음...</td>\n",
       "      <td>2020-06-26 00:38:57</td>\n",
       "      <td>행정·안전</td>\n",
       "      <td>경상북도</td>\n",
       "      <td>...</td>\n",
       "      <td>N</td>\n",
       "      <td>기타</td>\n",
       "      <td>NaN</td>\n",
       "      <td>NaN</td>\n",
       "      <td>NaN</td>\n",
       "      <td>NaN</td>\n",
       "      <td>NaN</td>\n",
       "      <td>PTTN</td>\n",
       "      <td>2020</td>\n",
       "      <td>['중앙정부', '기관', '승인', '신청', '자의', '개인정보', '무단',...</td>\n",
       "    </tr>\n",
       "    <tr>\n",
       "      <th>17</th>\n",
       "      <td>56</td>\n",
       "      <td>1AA-2006-0911420</td>\n",
       "      <td>2AA-2007-0026184</td>\n",
       "      <td>(SPP-2006-3003435)6월 2일에 신고했는데 아직 수리가 안되었네요. 철주가</td>\n",
       "      <td>경상북도 포항시 북구 청하면 청계리 29-2\\n[기관지정요청]\\n6월 2일에 신고했...</td>\n",
       "      <td>해당 통신주에 대해 사업자가 정비완료 하였습니다.</td>\n",
       "      <td>1. 안녕하십니까! 공중케이블 정비 민원센터입니다. \\n선생님께서 국민신문고를 통해...</td>\n",
       "      <td>2020-06-30 18:16:02</td>\n",
       "      <td>경찰</td>\n",
       "      <td>경상북도</td>\n",
       "      <td>...</td>\n",
       "      <td>N</td>\n",
       "      <td>기타</td>\n",
       "      <td>NaN</td>\n",
       "      <td>NaN</td>\n",
       "      <td>NaN</td>\n",
       "      <td>NaN</td>\n",
       "      <td>NaN</td>\n",
       "      <td>PTTN</td>\n",
       "      <td>2020</td>\n",
       "      <td>['경상북도', '포항시', '북구', '청하면', '청계', '리', '기관', ...</td>\n",
       "    </tr>\n",
       "    <tr>\n",
       "      <th>20</th>\n",
       "      <td>62</td>\n",
       "      <td>1AA-2007-0810884</td>\n",
       "      <td>2AA-2007-0813687</td>\n",
       "      <td>화장품책임판매업이 등록되어 있지 않은 불법제품을 사용하여 왁싱샵운영(추가의견)</td>\n",
       "      <td>화장품책임판매업이 등록되어 있지 않은 불법제품을 사용하여 왁싱샵운영내용화장품책임판매...</td>\n",
       "      <td>1. 안녕하십니까? 국민신문고를 찾아주셔서 진심으로 감사드립니다.\\n\\n2. 귀하께...</td>\n",
       "      <td>1. 안녕하십니까? 국민신문고를 찾아주셔서 진심으로 감사드립니다.\\n\\n2. 고객님...</td>\n",
       "      <td>2020-07-28 04:52:04</td>\n",
       "      <td>산업·통상</td>\n",
       "      <td>강원도</td>\n",
       "      <td>...</td>\n",
       "      <td>N</td>\n",
       "      <td>화장품법</td>\n",
       "      <td>NaN</td>\n",
       "      <td>NaN</td>\n",
       "      <td>NaN</td>\n",
       "      <td>NaN</td>\n",
       "      <td>NaN</td>\n",
       "      <td>PTTN</td>\n",
       "      <td>2020</td>\n",
       "      <td>['화장품', '책임', '판매업', '등록', '불법', '제품', '사용', '...</td>\n",
       "    </tr>\n",
       "    <tr>\n",
       "      <th>38</th>\n",
       "      <td>83</td>\n",
       "      <td>1AA-2011-0427261</td>\n",
       "      <td>2AA-2011-0447386</td>\n",
       "      <td>(SPP-2011-1503535)어린이 공원에 팻말이 태풍때 떨어졌는데 아직도 나무에</td>\n",
       "      <td>경상북도 포항시 남구 일월동 234-22\\n어린이 공원에 팻말이 태풍때 떨어졌는데 ...</td>\n",
       "      <td>1. 귀하께서 국민신문고를 통해 신청하신 민원(신청번호1AA-2011-0427261...</td>\n",
       "      <td>NaN</td>\n",
       "      <td>2020-11-15 14:44:56</td>\n",
       "      <td>행정·안전</td>\n",
       "      <td>경상북도</td>\n",
       "      <td>...</td>\n",
       "      <td>N</td>\n",
       "      <td>기타</td>\n",
       "      <td>NaN</td>\n",
       "      <td>NaN</td>\n",
       "      <td>NaN</td>\n",
       "      <td>NaN</td>\n",
       "      <td>NaN</td>\n",
       "      <td>PTTN</td>\n",
       "      <td>2020</td>\n",
       "      <td>['경상북도', '포항시', '남구', '월동', '어린이', '공원', '팻말',...</td>\n",
       "    </tr>\n",
       "    <tr>\n",
       "      <th>...</th>\n",
       "      <td>...</td>\n",
       "      <td>...</td>\n",
       "      <td>...</td>\n",
       "      <td>...</td>\n",
       "      <td>...</td>\n",
       "      <td>...</td>\n",
       "      <td>...</td>\n",
       "      <td>...</td>\n",
       "      <td>...</td>\n",
       "      <td>...</td>\n",
       "      <td>...</td>\n",
       "      <td>...</td>\n",
       "      <td>...</td>\n",
       "      <td>...</td>\n",
       "      <td>...</td>\n",
       "      <td>...</td>\n",
       "      <td>...</td>\n",
       "      <td>...</td>\n",
       "      <td>...</td>\n",
       "      <td>...</td>\n",
       "      <td>...</td>\n",
       "    </tr>\n",
       "    <tr>\n",
       "      <th>110729</th>\n",
       "      <td>133244</td>\n",
       "      <td>1AA-2102-1017205</td>\n",
       "      <td>2AA-2103-0017755</td>\n",
       "      <td>(SPP-2102-2804292)기타 불법주정차 불법 주정차 신고입니다.\\n\\n* ...</td>\n",
       "      <td>경상북도 포항시 북구 죽도동 59\\n기타 불법주정차 불법 주정차 신고입니다.\\n\\n...</td>\n",
       "      <td>1. 안녕하십니까? 귀하께서 국민신문고를 통해 신청하신 민원(1AA-2102-101...</td>\n",
       "      <td>NaN</td>\n",
       "      <td>2021-02-28 13:18:52</td>\n",
       "      <td>경찰</td>\n",
       "      <td>경상북도</td>\n",
       "      <td>...</td>\n",
       "      <td>N</td>\n",
       "      <td>도로교통법</td>\n",
       "      <td>NaN</td>\n",
       "      <td>NaN</td>\n",
       "      <td>NaN</td>\n",
       "      <td>NaN</td>\n",
       "      <td>NaN</td>\n",
       "      <td>PTTN</td>\n",
       "      <td>2021</td>\n",
       "      <td>['경상북도', '포항시', '북구', '죽도동', '기타', '불법', '정차',...</td>\n",
       "    </tr>\n",
       "    <tr>\n",
       "      <th>110733</th>\n",
       "      <td>133248</td>\n",
       "      <td>1AA-2102-1003899</td>\n",
       "      <td>2AA-2103-0750473</td>\n",
       "      <td>(SPP-2102-2713118)18:40 동서울발 포항행 우등 고속버스 안이고 좌석번</td>\n",
       "      <td>경상북도 경주시 강동면 다산리 산 53-5\\n18:40 동서울발 포항행 우등 고속버...</td>\n",
       "      <td>1. 안녕하십니까? 평소 교통행정에 관심과 애정을 가져주신 점 깊이 감사드리며, 귀...</td>\n",
       "      <td>NaN</td>\n",
       "      <td>2021-02-27 22:23:03</td>\n",
       "      <td>보건</td>\n",
       "      <td>경상북도</td>\n",
       "      <td>...</td>\n",
       "      <td>N</td>\n",
       "      <td>기타</td>\n",
       "      <td>NaN</td>\n",
       "      <td>NaN</td>\n",
       "      <td>NaN</td>\n",
       "      <td>NaN</td>\n",
       "      <td>NaN</td>\n",
       "      <td>PTTN</td>\n",
       "      <td>2021</td>\n",
       "      <td>['경상북도', '경주시', '강동면', '다산', '리', '산', '발', '포...</td>\n",
       "    </tr>\n",
       "    <tr>\n",
       "      <th>110734</th>\n",
       "      <td>133249</td>\n",
       "      <td>1AA-2103-0237272</td>\n",
       "      <td>2AA-2103-0266740</td>\n",
       "      <td>(SPP-2103-0702427)(보도블럭 침하 정비요청)\\nGS25편의점에서 일품포항물</td>\n",
       "      <td>부산광역시 동래구 안락동 629-28\\n(보도블럭 침하 정비요청)\\nGS25편의점에...</td>\n",
       "      <td>[주관부서] : 안전도시국 도시안전과 [답변일자] : 2021-03-09 17:23...</td>\n",
       "      <td>NaN</td>\n",
       "      <td>2021-03-07 10:34:05</td>\n",
       "      <td>기타</td>\n",
       "      <td>부산광역시</td>\n",
       "      <td>...</td>\n",
       "      <td>N</td>\n",
       "      <td>NaN</td>\n",
       "      <td>NaN</td>\n",
       "      <td>NaN</td>\n",
       "      <td>NaN</td>\n",
       "      <td>NaN</td>\n",
       "      <td>NaN</td>\n",
       "      <td>PTTN</td>\n",
       "      <td>2021</td>\n",
       "      <td>['부산광역시', '동래구', '안락동', '보도', '블럭', '침하', '정비'...</td>\n",
       "    </tr>\n",
       "    <tr>\n",
       "      <th>110740</th>\n",
       "      <td>133255</td>\n",
       "      <td>1AA-2103-0538970</td>\n",
       "      <td>2AA-2103-0607023</td>\n",
       "      <td>(SPP-2103-1401598)기타 불법주정차 불법 주정차 신고입니다.\\n\\n* ...</td>\n",
       "      <td>경상북도 포항시 북구 장성동 1489-1\\n기타 불법주정차 불법 주정차 신고입니다....</td>\n",
       "      <td>1. 안녕하십니까? 귀하께서 국민신문고를 통해 신청하신 민원(1AA-2103-053...</td>\n",
       "      <td>NaN</td>\n",
       "      <td>2021-03-14 08:49:54</td>\n",
       "      <td>경찰</td>\n",
       "      <td>경상북도</td>\n",
       "      <td>...</td>\n",
       "      <td>N</td>\n",
       "      <td>도로교통법</td>\n",
       "      <td>NaN</td>\n",
       "      <td>NaN</td>\n",
       "      <td>NaN</td>\n",
       "      <td>NaN</td>\n",
       "      <td>NaN</td>\n",
       "      <td>PTTN</td>\n",
       "      <td>2021</td>\n",
       "      <td>['경상북도', '포항시', '북구', '장성동', '기타', '불법', '정차',...</td>\n",
       "    </tr>\n",
       "    <tr>\n",
       "      <th>110750</th>\n",
       "      <td>133265</td>\n",
       "      <td>1AA-2103-0812439</td>\n",
       "      <td>2AA-2103-0942088</td>\n",
       "      <td>(SPP-2103-2004100)번호판에 반사 필름 같은걸 붙여서\\n차량번호 식별이 어렵</td>\n",
       "      <td>경상북도 포항시 북구 우현동 52-2\\n[기관지정요청]\\n번호판에 반사 필름 같은걸...</td>\n",
       "      <td>1. 평소 자동차 교통안전문화 발전의 관심에 깊이 감사드립니다.\\n2. 먼저 국민신...</td>\n",
       "      <td>NaN</td>\n",
       "      <td>2021-03-20 12:47:22</td>\n",
       "      <td>경찰</td>\n",
       "      <td>경상북도</td>\n",
       "      <td>...</td>\n",
       "      <td>N</td>\n",
       "      <td>자동차관리법</td>\n",
       "      <td>NaN</td>\n",
       "      <td>NaN</td>\n",
       "      <td>NaN</td>\n",
       "      <td>NaN</td>\n",
       "      <td>NaN</td>\n",
       "      <td>PTTN</td>\n",
       "      <td>2021</td>\n",
       "      <td>['경상북도', '포항시', '북구', '우현동', '기관', '지정', '요청',...</td>\n",
       "    </tr>\n",
       "  </tbody>\n",
       "</table>\n",
       "<p>29751 rows × 32 columns</p>\n",
       "</div>"
      ],
      "text/plain": [
       "        Unnamed: 0            민원신청번호            민원접수번호  \\\n",
       "3               25  1AA-2004-0257015  2AA-2004-0263815   \n",
       "13              48  1AA-2006-0782074  2AA-2006-0779602   \n",
       "17              56  1AA-2006-0911420  2AA-2007-0026184   \n",
       "20              62  1AA-2007-0810884  2AA-2007-0813687   \n",
       "38              83  1AA-2011-0427261  2AA-2011-0447386   \n",
       "...            ...               ...               ...   \n",
       "110729      133244  1AA-2102-1017205  2AA-2103-0017755   \n",
       "110733      133248  1AA-2102-1003899  2AA-2103-0750473   \n",
       "110734      133249  1AA-2103-0237272  2AA-2103-0266740   \n",
       "110740      133255  1AA-2103-0538970  2AA-2103-0607023   \n",
       "110750      133265  1AA-2103-0812439  2AA-2103-0942088   \n",
       "\n",
       "                                                       제목  \\\n",
       "3                          학교 구강 검진의 통계는 학교의 행정 사무가 아닌지요?   \n",
       "13      포항시 북구 삼호로 43   청라빌딩 의 입구 뒤 , 임대광고현수막 앞 인도 , 경...   \n",
       "17       (SPP-2006-3003435)6월 2일에 신고했는데 아직 수리가 안되었네요. 철주가   \n",
       "20            화장품책임판매업이 등록되어 있지 않은 불법제품을 사용하여 왁싱샵운영(추가의견)   \n",
       "38       (SPP-2011-1503535)어린이 공원에 팻말이 태풍때 떨어졌는데 아직도 나무에    \n",
       "...                                                   ...   \n",
       "110729  (SPP-2102-2804292)기타 불법주정차 불법 주정차 신고입니다.\\n\\n* ...   \n",
       "110733   (SPP-2102-2713118)18:40 동서울발 포항행 우등 고속버스 안이고 좌석번   \n",
       "110734  (SPP-2103-0702427)(보도블럭 침하 정비요청)\\nGS25편의점에서 일품포항물   \n",
       "110740  (SPP-2103-1401598)기타 불법주정차 불법 주정차 신고입니다.\\n\\n* ...   \n",
       "110750  (SPP-2103-2004100)번호판에 반사 필름 같은걸 붙여서\\n차량번호 식별이 어렵   \n",
       "\n",
       "                                                       본문  \\\n",
       "3       안녕하세요 \\n포항 남구 오천읍에서 작은 치과를 운영하고 있는 채민기입니다. \\n저...   \n",
       "13      \\n\\n\\n\\n\\n\\n중앙정부기관 승인 없이\\n신청자의 개인정보를\\n\\n무단 열람하...   \n",
       "17      경상북도 포항시 북구 청하면 청계리 29-2\\n[기관지정요청]\\n6월 2일에 신고했...   \n",
       "20      화장품책임판매업이 등록되어 있지 않은 불법제품을 사용하여 왁싱샵운영내용화장품책임판매...   \n",
       "38      경상북도 포항시 남구 일월동 234-22\\n어린이 공원에 팻말이 태풍때 떨어졌는데 ...   \n",
       "...                                                   ...   \n",
       "110729  경상북도 포항시 북구 죽도동 59\\n기타 불법주정차 불법 주정차 신고입니다.\\n\\n...   \n",
       "110733  경상북도 경주시 강동면 다산리 산 53-5\\n18:40 동서울발 포항행 우등 고속버...   \n",
       "110734  부산광역시 동래구 안락동 629-28\\n(보도블럭 침하 정비요청)\\nGS25편의점에...   \n",
       "110740  경상북도 포항시 북구 장성동 1489-1\\n기타 불법주정차 불법 주정차 신고입니다....   \n",
       "110750  경상북도 포항시 북구 우현동 52-2\\n[기관지정요청]\\n번호판에 반사 필름 같은걸...   \n",
       "\n",
       "                                                     처리내용  \\\n",
       "3       1. 안녕하십니까? 귀하께서 국민신문고(2AA-2004-0263815)를 통해 요청...   \n",
       "13      안녕하십니까? \\n국민신문고를 통해 포항북부경찰서를 찾아주신 데 감사드리며, \\n질...   \n",
       "17                            해당 통신주에 대해 사업자가 정비완료 하였습니다.   \n",
       "20      1. 안녕하십니까? 국민신문고를 찾아주셔서 진심으로 감사드립니다.\\n\\n2. 귀하께...   \n",
       "38      1. 귀하께서 국민신문고를 통해 신청하신 민원(신청번호1AA-2011-0427261...   \n",
       "...                                                   ...   \n",
       "110729  1. 안녕하십니까? 귀하께서 국민신문고를 통해 신청하신 민원(1AA-2102-101...   \n",
       "110733  1. 안녕하십니까? 평소 교통행정에 관심과 애정을 가져주신 점 깊이 감사드리며, 귀...   \n",
       "110734  [주관부서] : 안전도시국 도시안전과 [답변일자] : 2021-03-09 17:23...   \n",
       "110740  1. 안녕하십니까? 귀하께서 국민신문고를 통해 신청하신 민원(1AA-2103-053...   \n",
       "110750  1. 평소 자동차 교통안전문화 발전의 관심에 깊이 감사드립니다.\\n2. 먼저 국민신...   \n",
       "\n",
       "                                                     처리이력                 신청일  \\\n",
       "3       1. 안녕하십니까? 귀하께서 국민신문고(2AA-2004-0263815)를 통해 요청... 2020-04-10 17:59:46   \n",
       "13      안녕하십니까?\\n 귀하께서 국민신문고를 통해 신청하신 민원에 대한 검토 결과\\n다음... 2020-06-26 00:38:57   \n",
       "17      1. 안녕하십니까! 공중케이블 정비 민원센터입니다. \\n선생님께서 국민신문고를 통해... 2020-06-30 18:16:02   \n",
       "20      1. 안녕하십니까? 국민신문고를 찾아주셔서 진심으로 감사드립니다.\\n\\n2. 고객님... 2020-07-28 04:52:04   \n",
       "38                                                    NaN 2020-11-15 14:44:56   \n",
       "...                                                   ...                 ...   \n",
       "110729                                                NaN 2021-02-28 13:18:52   \n",
       "110733                                                NaN 2021-02-27 22:23:03   \n",
       "110734                                                NaN 2021-03-07 10:34:05   \n",
       "110740                                                NaN 2021-03-14 08:49:54   \n",
       "110750                                                NaN 2021-03-20 12:47:22   \n",
       "\n",
       "         민원분야  민원발생지  ... 중복민원                          관련법령 자민원여부 모민원번호  \\\n",
       "3          교육   경상북도  ...    N   민원 처리에 관한 법률 제27조(처리결과의 통지)   NaN   NaN   \n",
       "13      행정·안전   경상북도  ...    N                           기타    NaN   NaN   \n",
       "17         경찰   경상북도  ...    N                           기타    NaN   NaN   \n",
       "20      산업·통상    강원도  ...    N                         화장품법    NaN   NaN   \n",
       "38      행정·안전   경상북도  ...    N                           기타    NaN   NaN   \n",
       "...       ...    ...  ...  ...                           ...   ...   ...   \n",
       "110729     경찰   경상북도  ...    N                        도로교통법    NaN   NaN   \n",
       "110733     보건   경상북도  ...    N                           기타    NaN   NaN   \n",
       "110734     기타  부산광역시  ...    N                           NaN   NaN   NaN   \n",
       "110740     경찰   경상북도  ...    N                        도로교통법    NaN   NaN   \n",
       "110750     경찰   경상북도  ...    N                       자동차관리법    NaN   NaN   \n",
       "\n",
       "       3회이상종결처리관계 일괄답변모민원번호1 일괄답변모민원번호2 category  year  \\\n",
       "3             NaN        NaN        NaN     PTTN  2020   \n",
       "13            NaN        NaN        NaN     PTTN  2020   \n",
       "17            NaN        NaN        NaN     PTTN  2020   \n",
       "20            NaN        NaN        NaN     PTTN  2020   \n",
       "38            NaN        NaN        NaN     PTTN  2020   \n",
       "...           ...        ...        ...      ...   ...   \n",
       "110729        NaN        NaN        NaN     PTTN  2021   \n",
       "110733        NaN        NaN        NaN     PTTN  2021   \n",
       "110734        NaN        NaN        NaN     PTTN  2021   \n",
       "110740        NaN        NaN        NaN     PTTN  2021   \n",
       "110750        NaN        NaN        NaN     PTTN  2021   \n",
       "\n",
       "                                                   tokens  \n",
       "3       ['포항', '남구', '오천읍', '치과', '운영', '채민', '기입', '니...  \n",
       "13      ['중앙정부', '기관', '승인', '신청', '자의', '개인정보', '무단',...  \n",
       "17      ['경상북도', '포항시', '북구', '청하면', '청계', '리', '기관', ...  \n",
       "20      ['화장품', '책임', '판매업', '등록', '불법', '제품', '사용', '...  \n",
       "38      ['경상북도', '포항시', '남구', '월동', '어린이', '공원', '팻말',...  \n",
       "...                                                   ...  \n",
       "110729  ['경상북도', '포항시', '북구', '죽도동', '기타', '불법', '정차',...  \n",
       "110733  ['경상북도', '경주시', '강동면', '다산', '리', '산', '발', '포...  \n",
       "110734  ['부산광역시', '동래구', '안락동', '보도', '블럭', '침하', '정비'...  \n",
       "110740  ['경상북도', '포항시', '북구', '장성동', '기타', '불법', '정차',...  \n",
       "110750  ['경상북도', '포항시', '북구', '우현동', '기관', '지정', '요청',...  \n",
       "\n",
       "[29751 rows x 32 columns]"
      ]
     },
     "execution_count": 59,
     "metadata": {},
     "output_type": "execute_result"
    }
   ],
   "source": [
    "keyword_check('기관')"
   ]
  },
  {
   "attachments": {},
   "cell_type": "markdown",
   "metadata": {},
   "source": [
    "딱히 반복되는 패턴이나 프리텍스트가 보이지 않기 때문에 stopword로 지정하지 않음"
   ]
  },
  {
   "cell_type": "code",
   "execution_count": null,
   "metadata": {},
   "outputs": [],
   "source": []
  },
  {
   "attachments": {},
   "cell_type": "markdown",
   "metadata": {},
   "source": [
    "### 이러한 방식으로 stopword를 추가한 이후 최종본을 저장"
   ]
  },
  {
   "cell_type": "code",
   "execution_count": 60,
   "metadata": {},
   "outputs": [
    {
     "data": {
      "text/html": [
       "<div>\n",
       "<style scoped>\n",
       "    .dataframe tbody tr th:only-of-type {\n",
       "        vertical-align: middle;\n",
       "    }\n",
       "\n",
       "    .dataframe tbody tr th {\n",
       "        vertical-align: top;\n",
       "    }\n",
       "\n",
       "    .dataframe thead th {\n",
       "        text-align: right;\n",
       "    }\n",
       "</style>\n",
       "<table border=\"1\" class=\"dataframe\">\n",
       "  <thead>\n",
       "    <tr style=\"text-align: right;\">\n",
       "      <th></th>\n",
       "      <th>0</th>\n",
       "      <th>1</th>\n",
       "    </tr>\n",
       "  </thead>\n",
       "  <tbody>\n",
       "    <tr>\n",
       "      <th>3</th>\n",
       "      <td>포항시</td>\n",
       "      <td>82167</td>\n",
       "    </tr>\n",
       "    <tr>\n",
       "      <th>217</th>\n",
       "      <td>기관</td>\n",
       "      <td>44847</td>\n",
       "    </tr>\n",
       "    <tr>\n",
       "      <th>484</th>\n",
       "      <td>경상북도</td>\n",
       "      <td>41197</td>\n",
       "    </tr>\n",
       "    <tr>\n",
       "      <th>505</th>\n",
       "      <td>바로</td>\n",
       "      <td>31151</td>\n",
       "    </tr>\n",
       "    <tr>\n",
       "      <th>942</th>\n",
       "      <td>발송</td>\n",
       "      <td>31056</td>\n",
       "    </tr>\n",
       "    <tr>\n",
       "      <th>...</th>\n",
       "      <td>...</td>\n",
       "      <td>...</td>\n",
       "    </tr>\n",
       "    <tr>\n",
       "      <th>25366</th>\n",
       "      <td>췌장암</td>\n",
       "      <td>1</td>\n",
       "    </tr>\n",
       "    <tr>\n",
       "      <th>25368</th>\n",
       "      <td>정환</td>\n",
       "      <td>1</td>\n",
       "    </tr>\n",
       "    <tr>\n",
       "      <th>25371</th>\n",
       "      <td>침요</td>\n",
       "      <td>1</td>\n",
       "    </tr>\n",
       "    <tr>\n",
       "      <th>25372</th>\n",
       "      <td>로그아웃</td>\n",
       "      <td>1</td>\n",
       "    </tr>\n",
       "    <tr>\n",
       "      <th>37562</th>\n",
       "      <td>귓가</td>\n",
       "      <td>1</td>\n",
       "    </tr>\n",
       "  </tbody>\n",
       "</table>\n",
       "<p>36315 rows × 2 columns</p>\n",
       "</div>"
      ],
      "text/plain": [
       "          0      1\n",
       "3       포항시  82167\n",
       "217      기관  44847\n",
       "484    경상북도  41197\n",
       "505      바로  31151\n",
       "942      발송  31056\n",
       "...     ...    ...\n",
       "25366   췌장암      1\n",
       "25368    정환      1\n",
       "25371    침요      1\n",
       "25372  로그아웃      1\n",
       "37562    귓가      1\n",
       "\n",
       "[36315 rows x 2 columns]"
      ]
     },
     "execution_count": 60,
     "metadata": {},
     "output_type": "execute_result"
    }
   ],
   "source": [
    "check_freq_tokens(data)"
   ]
  },
  {
   "attachments": {},
   "cell_type": "markdown",
   "metadata": {},
   "source": [
    "너무 적게 등장한 단어까지 저장할 필요는 없기 때문에 적당한 선에서 잘라서 저장"
   ]
  },
  {
   "cell_type": "code",
   "execution_count": 61,
   "metadata": {},
   "outputs": [],
   "source": [
    "tf_df = check_freq_tokens(data)"
   ]
  },
  {
   "cell_type": "code",
   "execution_count": 64,
   "metadata": {},
   "outputs": [],
   "source": [
    "min_threshold = 10 #열번 이상 등장한 키워드만 남기기\n",
    "\n",
    "save = tf_df[tf_df[1] >= min_threshold]"
   ]
  },
  {
   "cell_type": "code",
   "execution_count": 65,
   "metadata": {},
   "outputs": [],
   "source": [
    "save.to_csv(\"../data/pohang_tf_10.csv\")"
   ]
  }
 ],
 "metadata": {
  "kernelspec": {
   "display_name": "base",
   "language": "python",
   "name": "python3"
  },
  "language_info": {
   "codemirror_mode": {
    "name": "ipython",
    "version": 3
   },
   "file_extension": ".py",
   "mimetype": "text/x-python",
   "name": "python",
   "nbconvert_exporter": "python",
   "pygments_lexer": "ipython3",
   "version": "3.8.15"
  },
  "orig_nbformat": 4,
  "vscode": {
   "interpreter": {
    "hash": "6632c70ce360d611e847e5318887868e2366d56c00e5f501b5a0b067a934dfe7"
   }
  }
 },
 "nbformat": 4,
 "nbformat_minor": 2
}
