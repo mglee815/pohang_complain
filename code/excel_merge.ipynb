{
 "cells": [
  {
   "cell_type": "code",
   "execution_count": 1,
   "metadata": {},
   "outputs": [],
   "source": [
    "import pandas as pd"
   ]
  },
  {
   "cell_type": "code",
   "execution_count": 11,
   "metadata": {},
   "outputs": [],
   "source": [
    "import os\n",
    "\n",
    "file_format = \"xlsx\" # .csv .xlsx\n",
    "file_path = \"../data/\"\n",
    "file_list = [f\"{file}\" for file in os.listdir(file_path) if file_format in file]"
   ]
  },
  {
   "cell_type": "code",
   "execution_count": 12,
   "metadata": {},
   "outputs": [
    {
     "data": {
      "text/plain": [
       "['PTTN2020.xlsx',\n",
       " 'SAEOL2021.xlsx',\n",
       " 'DFPT2022.xlsx',\n",
       " 'DFPT2021.xlsx',\n",
       " 'SAEOL2019.xlsx',\n",
       " 'PTTN2019.xlsx',\n",
       " 'SAEOL2022.xlsx',\n",
       " 'PTTN2022.xlsx',\n",
       " 'DFPT2020.xlsx',\n",
       " 'SAEOL2020.xlsx',\n",
       " 'PTTN2021.xlsx',\n",
       " 'DFPT2019.xlsx']"
      ]
     },
     "execution_count": 12,
     "metadata": {},
     "output_type": "execute_result"
    }
   ],
   "source": [
    "file_list"
   ]
  },
  {
   "cell_type": "code",
   "execution_count": 21,
   "metadata": {},
   "outputs": [
    {
     "name": "stdout",
     "output_type": "stream",
     "text": [
      "PTTN 2020\n",
      "SAEO 2021\n",
      "DFPT 2022\n",
      "DFPT 2021\n",
      "SAEO 2019\n",
      "PTTN 2019\n",
      "SAEO 2022\n",
      "PTTN 2022\n",
      "DFPT 2020\n",
      "SAEO 2020\n",
      "PTTN 2021\n",
      "DFPT 2019\n"
     ]
    }
   ],
   "source": [
    "merged_data = pd.DataFrame()\n",
    "for file in file_list:\n",
    "    year = file[-9:-5]\n",
    "    category = file[:4]\n",
    "    print(category, year)\n",
    "    df = pd.read_excel(f\"../data/{file}\")\n",
    "    df['category'] = category\n",
    "    df['year'] = year\n",
    "    merged_data =  pd.concat([merged_data, df])"
   ]
  }
 ],
 "metadata": {
  "kernelspec": {
   "display_name": "save_ML",
   "language": "python",
   "name": "save"
  },
  "language_info": {
   "codemirror_mode": {
    "name": "ipython",
    "version": 3
   },
   "file_extension": ".py",
   "mimetype": "text/x-python",
   "name": "python",
   "nbconvert_exporter": "python",
   "pygments_lexer": "ipython3",
   "version": "3.8.15"
  },
  "orig_nbformat": 4
 },
 "nbformat": 4,
 "nbformat_minor": 2
}
